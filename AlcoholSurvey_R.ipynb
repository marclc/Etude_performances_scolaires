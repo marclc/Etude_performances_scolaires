{
 "cells": [
  {
   "cell_type": "markdown",
   "metadata": {
    "collapsed": true
   },
   "source": [
    "Travail réalisé par Marc le Chevoir, Claire Espérou et Adrien Schaffner, encadrés par Philippe Besse.\n",
    "\n",
    "# Etude du jeu de données \"Maths\" ou \"Portugais\" avec R"
   ]
  },
  {
   "cell_type": "code",
   "execution_count": null,
   "metadata": {
    "collapsed": true
   },
   "outputs": [],
   "source": [
    "library(vcd)\n",
    "library(FactoMineR)\n",
    "library(corrplot)\n",
    "library(boot)\n",
    "library(ROCR) \n",
    "library(doParallel)"
   ]
  },
  {
   "cell_type": "code",
   "execution_count": null,
   "metadata": {
    "collapsed": true
   },
   "outputs": [],
   "source": [
    "cls = makeCluster(4)\n",
    "registerDoParallel(cls)"
   ]
  },
  {
   "cell_type": "markdown",
   "metadata": {},
   "source": [
    "# 1 - Importation des données\n",
    "\n",
    "Choisir le jeu de données : soit l'évaluation en Maths, soit en Portugais"
   ]
  },
  {
   "cell_type": "code",
   "execution_count": null,
   "metadata": {
    "collapsed": true
   },
   "outputs": [],
   "source": [
    "Data=read.table(\"./student/student-mat.csv\",sep=\";\",header=TRUE)\n",
    "#Data=read.table(\"./student/student-por.csv\",sep=\";\",header=TRUE)"
   ]
  },
  {
   "cell_type": "code",
   "execution_count": null,
   "metadata": {
    "collapsed": true,
    "scrolled": true
   },
   "outputs": [],
   "source": [
    "dim(Data)\n",
    "Data"
   ]
  },
  {
   "cell_type": "markdown",
   "metadata": {},
   "source": [
    "Suppression des individus ayant 0 en note finale : indidivus non utilisables."
   ]
  },
  {
   "cell_type": "code",
   "execution_count": null,
   "metadata": {
    "collapsed": true
   },
   "outputs": [],
   "source": [
    "Data = Data[Data$G3!=0,]\n",
    "dim(Data)"
   ]
  },
  {
   "cell_type": "markdown",
   "metadata": {},
   "source": [
    "### Listes des variables, regroupées par type :"
   ]
  },
  {
   "cell_type": "code",
   "execution_count": null,
   "metadata": {
    "collapsed": true
   },
   "outputs": [],
   "source": [
    "variables_descriptives = c(\"school\",\"sex\",\"address\",\"famsize\",\"Pstatus\",\"Mjob\",\"Fjob\",\"reason\",\"guardian\",\"schoolsup\",\n",
    "                   \"famsup\",\"paid\",\"activities\",\"nursery\",\"higher\", \"internet\",\"romantic\")\n",
    "variables_numeriques = c(\"age\",\"absences\",\"G1\",\"G2\",\"G3\",\"Medu\",\"Fedu\",\"traveltime\", \"studytime\",\"failures\",\"famrel\",\n",
    "                         \"freetime\",\"goout\",\"Dalc\",\"Walc\",\"health\")"
   ]
  },
  {
   "cell_type": "markdown",
   "metadata": {},
   "source": [
    "Attention aux variables qualitatives ordinales (Medu, Fedu ...) considérées ici comme quantitatives : ce choix peut être remis en question. Il faudra prendre garde lors de la création des modèles de prévision si on considère que ce sont des variables qualitatives ou quantitatives."
   ]
  },
  {
   "cell_type": "markdown",
   "metadata": {},
   "source": [
    "# 2 - Transformation des données"
   ]
  },
  {
   "cell_type": "markdown",
   "metadata": {},
   "source": [
    "### Transformation des variables descriptives (quantitatives) en variables qualitatives :"
   ]
  },
  {
   "cell_type": "code",
   "execution_count": null,
   "metadata": {
    "collapsed": true
   },
   "outputs": [],
   "source": [
    "dataq<-Data\n",
    "dataq[,\"age\"]<-cut(Data$age,\n",
    "                   breaks=quantile(Data[,\"age\"], probs = seq(0, 1, 1/4)),\n",
    "                   labels = c(\"A0\",\"A1\",\"A2\",\"A3\"),include.lowest = TRUE)\n",
    "dataq[,\"absences\"]<-cut(Data$absences,\n",
    "                        breaks=quantile(Data[,\"absences\"], probs = seq(0, 1, 1/2)),\n",
    "                        labels = c(\"Abs0\",\"Abs1\"),include.lowest = TRUE)\n",
    "dataq[,\"G1\"]<-cut(Data$G1,\n",
    "                  breaks=quantile(Data[,\"G1\"], probs = seq(0, 1, 1/4)),\n",
    "                  labels = c(\"G1_0\",\"G1_1\",\"G1_2\",\"G1_3\"),include.lowest = TRUE)\n",
    "dataq[,\"G2\"]<-cut(Data$G2,\n",
    "                  breaks=quantile(Data[,\"G2\"], probs = seq(0, 1, 1/4)),\n",
    "                  labels = c(\"G2_0\",\"G2_1\",\"G2_2\",\"G2_3\"),include.lowest = TRUE)\n",
    "dataq[,\"G3\"]<-cut(Data$G3,\n",
    "                  breaks=quantile(Data[,\"G3\"], probs = seq(0, 1, 1/4)),\n",
    "                  labels = c(\"G3_0\",\"G3_1\",\"G3_2\",\"G3_3\"),include.lowest = TRUE)"
   ]
  },
  {
   "cell_type": "markdown",
   "metadata": {},
   "source": [
    "### Renommage des modalités :"
   ]
  },
  {
   "cell_type": "code",
   "execution_count": null,
   "metadata": {
    "collapsed": true
   },
   "outputs": [],
   "source": [
    "dataq[,\"Medu\"]<-factor(Data[,\"Medu\"],\n",
    "                     levels=c(\"0\",\"1\",\"2\",\"3\",\"4\"),\n",
    "                     labels=c(\"Medu_0\",\"Medu_1\",\"Medu_2\",\"Medu_3\",\"Medu_4\"))\n",
    "dataq[,\"Fedu\"]<-factor(Data[,\"Fedu\"],\n",
    "                     levels=c(\"0\",\"1\",\"2\",\"3\",\"4\"),\n",
    "                     labels=c(\"Fedu_0\",\"Fedu_1\",\"Fedu_2\",\"Fedu_3\",\"Fedu_4\"))\n",
    "dataq[,\"traveltime\"]<-factor(Data[,\"traveltime\"],\n",
    "                     levels=c(\"1\",\"2\",\"3\",\"4\"),\n",
    "                     labels=c(\"travel_1\",\"travel_2\",\"travel_3\",\"travel_4\"))\n",
    "dataq[,\"studytime\"]<-factor(Data[,\"studytime\"],\n",
    "                     levels=c(\"1\",\"2\",\"3\",\"4\"),\n",
    "                     labels=c(\"study_1\",\"study_2\",\"study_3\",\"study_4\"))\n",
    "dataq[,\"failures\"]<-factor(Data[,\"failures\"],\n",
    "                     levels=c(\"1\",\"2\",\"3\",\"4\"),\n",
    "                     labels=c(\"failures_1\",\"failures_2\",\"failures_3\",\"failures_4\"))\n",
    "dataq[,\"famrel\"]<-factor(Data[,\"famrel\"],\n",
    "                     levels=c(\"1\",\"2\",\"3\",\"4\",\"5\"),\n",
    "                     labels=c(\"famrel_1\",\"famrel_2\",\"famrel_3\",\"famrel_4\",\"famrel_5\"))\n",
    "dataq[,\"freetime\"]<-factor(Data[,\"freetime\"],\n",
    "                     levels=c(\"1\",\"2\",\"3\",\"4\",\"5\"),\n",
    "                     labels=c(\"freetime_1\",\"freetime_2\",\"freetime_3\",\"freetime_4\",\"freetime_5\"))\n",
    "dataq[,\"goout\"]<-factor(Data[,\"goout\"],\n",
    "                     levels=c(\"1\",\"2\",\"3\",\"4\",\"5\"),\n",
    "                     labels=c(\"goout_1\",\"goout_2\",\"goout_3\",\"goout_4\",\"goout_5\"))\n",
    "dataq[,\"Dalc\"]<-factor(Data[,\"Dalc\"],\n",
    "                     levels=c(\"1\",\"2\",\"3\",\"4\",\"5\"),\n",
    "                     labels=c(\"Dalc_1\",\"Dalc_2\",\"Dalc_3\",\"Dalc_4\",\"Dalc_5\"))\n",
    "dataq[,\"Walc\"]<-factor(Data[,\"Walc\"],\n",
    "                     levels=c(\"1\",\"2\",\"3\",\"4\",\"5\"),\n",
    "                     labels=c(\"Walc_1\",\"Walc_2\",\"Walc_3\",\"Walc_4\",\"Walc_5\"))\n",
    "dataq[,\"health\"]<-factor(Data[,\"health\"],\n",
    "                     levels=c(\"1\",\"2\",\"3\",\"4\",\"5\"),\n",
    "                     labels=c(\"health_1\",\"health_2\",\"health_3\",\"health_4\",\"health_5\"))"
   ]
  },
  {
   "cell_type": "markdown",
   "metadata": {},
   "source": [
    "### Ajout de la variable 'Alc' qui prend en compte la somme de 'Walc' et 'Dalc' :\n",
    "But : avoir un aperçu général de la consommation sur la semaine complète"
   ]
  },
  {
   "cell_type": "code",
   "execution_count": null,
   "metadata": {
    "collapsed": true
   },
   "outputs": [],
   "source": [
    "dataq[,\"Alc\"]<-factor(Data[,\"Dalc\"]+Data[,\"Walc\"])\n",
    "levels(dataq[,\"Alc\"]) = c(\"1\",\"1\",\"2\",\"2\",\"3\",\"3\",\"4\",\"4\",\"5\",\"5\")\n",
    "dataq[,\"Alc\"]<-factor(dataq[,\"Alc\"],\n",
    "                     levels=c(\"1\",\"2\",\"3\",\"4\",\"5\"),\n",
    "                     labels=c(\"Alc_1\",\"Alc_2\",\"Alc_3\",\"Alc_4\",\"Alc_5\"))"
   ]
  },
  {
   "cell_type": "markdown",
   "metadata": {},
   "source": [
    "# 3 - Exploration des données\n",
    "\n",
    "### Analyse des variables quantitatives"
   ]
  },
  {
   "cell_type": "code",
   "execution_count": null,
   "metadata": {
    "collapsed": true
   },
   "outputs": [],
   "source": [
    "corrplot(cor(Data[,variables_numeriques]), method=\"ellipse\")"
   ]
  },
  {
   "cell_type": "markdown",
   "metadata": {
    "collapsed": true
   },
   "source": [
    "### Diagramme boîtes parallèles de chaque variable quantitative."
   ]
  },
  {
   "cell_type": "code",
   "execution_count": null,
   "metadata": {
    "collapsed": true
   },
   "outputs": [],
   "source": [
    "options(repr.plot.width=10, repr.plot.height=5)\n",
    "boxplot(Data[,variables_numeriques])"
   ]
  },
  {
   "cell_type": "markdown",
   "metadata": {},
   "source": [
    "### Nuage de points des absences et des notes aux trois évaluations"
   ]
  },
  {
   "cell_type": "code",
   "execution_count": null,
   "metadata": {
    "collapsed": true
   },
   "outputs": [],
   "source": [
    "pairs(absences ~ G1 + G2 + G3, data=Data)"
   ]
  },
  {
   "cell_type": "markdown",
   "metadata": {
    "collapsed": true
   },
   "source": [
    "### Etude de la variable \"Dalc\" (consommation d'alcool en semaine)"
   ]
  },
  {
   "cell_type": "code",
   "execution_count": null,
   "metadata": {
    "collapsed": true
   },
   "outputs": [],
   "source": [
    "options(repr.plot.width=10, repr.plot.height=5)\n",
    "par(mfrow=c(1,2))\n",
    "boxplot(Data[,\"Dalc\"]);hist(Data[,\"Dalc\"],breaks=6)"
   ]
  },
  {
   "cell_type": "markdown",
   "metadata": {
    "collapsed": true
   },
   "source": [
    "### Etude de la variable \"Walc\" (consommation d'alcool le weekend)"
   ]
  },
  {
   "cell_type": "code",
   "execution_count": null,
   "metadata": {
    "collapsed": true
   },
   "outputs": [],
   "source": [
    "options(repr.plot.width=10, repr.plot.height=5)\n",
    "par(mfrow=c(1,2))\n",
    "boxplot(Data[,\"Walc\"]);hist(Data[,\"Walc\"])"
   ]
  },
  {
   "cell_type": "markdown",
   "metadata": {},
   "source": [
    "### Etude combinée des variables \"Dalc\" et \"Walc\" (consommation globale d'alcool)"
   ]
  },
  {
   "cell_type": "code",
   "execution_count": null,
   "metadata": {
    "collapsed": true
   },
   "outputs": [],
   "source": [
    "options(repr.plot.width=10, repr.plot.height=5)\n",
    "mosaicplot(~Dalc + Walc, data=Data)"
   ]
  },
  {
   "cell_type": "markdown",
   "metadata": {},
   "source": [
    "### Lien entre résultats à l'examen final et consommation d'alcool"
   ]
  },
  {
   "cell_type": "code",
   "execution_count": null,
   "metadata": {
    "collapsed": true
   },
   "outputs": [],
   "source": [
    "options(repr.plot.width=10, repr.plot.height=5)\n",
    "par(mfrow=c(1,2))\n",
    "boxplot(G3~Walc, data=Data, main=\"G3=f(Walc)\");boxplot(G3~Dalc, data=Data, main=\"G3=f(Dalc)\")"
   ]
  },
  {
   "cell_type": "markdown",
   "metadata": {},
   "source": [
    "### Test d'égalité des moyennes"
   ]
  },
  {
   "cell_type": "code",
   "execution_count": null,
   "metadata": {
    "collapsed": true
   },
   "outputs": [],
   "source": [
    "note_walc1 = Data[Data$Walc==1,]$G3\n",
    "note_walc2 = Data[Data$Walc==2,]$G3\n",
    "note_walc3 = Data[Data$Walc==3,]$G3\n",
    "note_walc4 = Data[Data$Walc==4,]$G3\n",
    "note_walc5 = Data[Data$Walc==5,]$G3"
   ]
  },
  {
   "cell_type": "code",
   "execution_count": null,
   "metadata": {
    "collapsed": true
   },
   "outputs": [],
   "source": [
    "Notes = c(note_walc1,note_walc2,note_walc3,note_walc4,note_walc5)\n",
    "conso_walc = c(rep(\"1\",dim(as.matrix(note_walc1))[1]),rep(\"2\",dim(as.matrix(note_walc2))[1]),\n",
    "           rep(\"3\",dim(as.matrix(note_walc3))[1]),rep(\"4\",dim(as.matrix(note_walc4))[1]),rep(\"5\",dim(as.matrix(note_walc5))[1]))\n"
   ]
  },
  {
   "cell_type": "code",
   "execution_count": null,
   "metadata": {
    "collapsed": true
   },
   "outputs": [],
   "source": [
    "an1 = lm(Notes~conso_walc)"
   ]
  },
  {
   "cell_type": "code",
   "execution_count": null,
   "metadata": {
    "collapsed": true
   },
   "outputs": [],
   "source": [
    "summary(an1)"
   ]
  },
  {
   "cell_type": "code",
   "execution_count": null,
   "metadata": {
    "collapsed": true
   },
   "outputs": [],
   "source": []
  },
  {
   "cell_type": "code",
   "execution_count": null,
   "metadata": {
    "collapsed": true
   },
   "outputs": [],
   "source": [
    "note_dalc1 = Data[Data$Dalc==1,]$G3\n",
    "note_dalc2 = Data[Data$Dalc==2,]$G3\n",
    "note_dalc3 = Data[Data$Dalc==3,]$G3\n",
    "note_dalc4 = Data[Data$Dalc==4,]$G3\n",
    "note_dalc5 = Data[Data$Dalc==5,]$G3"
   ]
  },
  {
   "cell_type": "code",
   "execution_count": null,
   "metadata": {
    "collapsed": true
   },
   "outputs": [],
   "source": [
    "Notes = c(note_dalc1,note_dalc2,note_dalc3,note_dalc4,note_dalc5)\n",
    "conso_dalc = c(rep(\"1\",dim(as.matrix(note_dalc1))[1]),rep(\"2\",dim(as.matrix(note_dalc2))[1]),\n",
    "           rep(\"3\",dim(as.matrix(note_dalc3))[1]),rep(\"4\",dim(as.matrix(note_dalc4))[1]),rep(\"5\",dim(as.matrix(note_dalc5))[1]))\n"
   ]
  },
  {
   "cell_type": "code",
   "execution_count": null,
   "metadata": {
    "collapsed": true
   },
   "outputs": [],
   "source": [
    "an1 = lm(Notes~conso_dalc)"
   ]
  },
  {
   "cell_type": "code",
   "execution_count": null,
   "metadata": {
    "collapsed": true
   },
   "outputs": [],
   "source": [
    "summary(an1)"
   ]
  },
  {
   "cell_type": "markdown",
   "metadata": {},
   "source": [
    "### Etude clinique entre Alcool et Failures"
   ]
  },
  {
   "cell_type": "code",
   "execution_count": null,
   "metadata": {
    "collapsed": true
   },
   "outputs": [],
   "source": [
    "table(Data$Walc,Data$failures)"
   ]
  },
  {
   "cell_type": "code",
   "execution_count": null,
   "metadata": {
    "collapsed": true
   },
   "outputs": [],
   "source": [
    "table(Data$Dalc,Data$failures)"
   ]
  },
  {
   "cell_type": "code",
   "execution_count": null,
   "metadata": {
    "collapsed": true
   },
   "outputs": [],
   "source": [
    "failures_bin = Data$failures\n",
    "Dalc_regroupe = Data$Dalc\n",
    "Walc_regroupe = Data$Walc"
   ]
  },
  {
   "cell_type": "code",
   "execution_count": null,
   "metadata": {
    "collapsed": true
   },
   "outputs": [],
   "source": [
    "for (i in 1:dim(Data[\"failures\"])[1]){\n",
    "    if(failures_bin[i]>1) failures_bin[i]=1\n",
    "}\n",
    "for (i in 1:dim(Data[\"Dalc\"])[1]){\n",
    "    if(Dalc_regroupe[i]>3) Dalc_regroupe[i]=3\n",
    "}\n",
    "for (i in 1:dim(Data[\"Walc\"])[1]){\n",
    "    if(Walc_regroupe[i]>4) Walc_regroupe[i]=4\n",
    "}\n",
    "#failures_bin\n",
    "#Dalc_regroupe\n",
    "#Walc_regroupe"
   ]
  },
  {
   "cell_type": "markdown",
   "metadata": {},
   "source": [
    "On regroupe les modalités (échecs >= 1 et nb échecs =0 ) pour avoir des classes de plus forts effectifs."
   ]
  },
  {
   "cell_type": "code",
   "execution_count": null,
   "metadata": {
    "collapsed": true
   },
   "outputs": [],
   "source": [
    "tab = table(Dalc_regroupe,failures_bin)\n",
    "tab"
   ]
  },
  {
   "cell_type": "code",
   "execution_count": null,
   "metadata": {
    "collapsed": true
   },
   "outputs": [],
   "source": [
    "khi_test = chisq.test(tab)\n",
    "khi_test"
   ]
  },
  {
   "cell_type": "code",
   "execution_count": null,
   "metadata": {
    "collapsed": true
   },
   "outputs": [],
   "source": [
    "tab2 = table(Walc_regroupe,failures_bin)\n",
    "tab2"
   ]
  },
  {
   "cell_type": "code",
   "execution_count": null,
   "metadata": {
    "collapsed": true
   },
   "outputs": [],
   "source": [
    "khi_test2 = chisq.test(tab2)\n",
    "khi_test2"
   ]
  },
  {
   "cell_type": "markdown",
   "metadata": {},
   "source": [
    "### Lien entre la note finale et les variables qualitatives"
   ]
  },
  {
   "cell_type": "code",
   "execution_count": null,
   "metadata": {
    "collapsed": true
   },
   "outputs": [],
   "source": [
    "options(repr.plot.width=10, repr.plot.height=10)\n",
    "par(mfrow=c(3,3))\n",
    "boxplot(G3~school, data=Data,main=\"school\");boxplot(G3~sex, data=Data,main=\"sex\");boxplot(G3~address, data=Data,main=\"address\")\n",
    "boxplot(G3~famsize, data=Data,main=\"famsize\");boxplot(G3~Pstatus, data=Data,main=\"Pstatus\");boxplot(G3~Mjob, data=Data,main=\"Mjob\")\n",
    "boxplot(G3~Fjob, data=Data,main=\"Fjob\");boxplot(G3~reason, data=Data,main=\"reason\");boxplot(G3~guardian, data=Data,main=\"guardian\")"
   ]
  },
  {
   "cell_type": "code",
   "execution_count": null,
   "metadata": {
    "collapsed": true
   },
   "outputs": [],
   "source": [
    "options(repr.plot.width=10, repr.plot.height=10)\n",
    "par(mfrow=c(3,3))\n",
    "boxplot(G3~schoolsup, data=Data,main=\"schoolsup\");boxplot(G3~famsup, data=Data,main=\"famsup\");boxplot(G3~paid, data=Data,main=\"paid\")\n",
    "boxplot(G3~activities, data=Data,main=\"activities\");boxplot(G3~nursery, data=Data,main=\"nursery\");boxplot(G3~higher, data=Data,main=\"higher\")\n",
    "boxplot(G3~internet, data=Data,main=\"internet\");boxplot(G3~romantic, data=Data,main=\"romantic\")"
   ]
  },
  {
   "cell_type": "markdown",
   "metadata": {},
   "source": [
    "### Analyse de toutes les variables (y compris les quantitatives, transformées en qualitatives) : AFCM"
   ]
  },
  {
   "cell_type": "code",
   "execution_count": null,
   "metadata": {
    "collapsed": true
   },
   "outputs": [],
   "source": [
    "dim(dataq)\n",
    "afc=MCA(dataq,quali.sup=c(31:34)) #,quali.sup=c(38)\n",
    "summary(afc)"
   ]
  },
  {
   "cell_type": "code",
   "execution_count": null,
   "metadata": {
    "collapsed": true
   },
   "outputs": [],
   "source": [
    "options(repr.plot.width=15, repr.plot.height=15)\n",
    "plot.MCA(afc,invisible=c(\"ind\"),col.var=\"blue\",habillage=\"quali\")"
   ]
  },
  {
   "cell_type": "markdown",
   "metadata": {},
   "source": [
    "# 4 - Séparation des données en un échantillon \"Apprentissage\" et un \"Test\""
   ]
  },
  {
   "cell_type": "code",
   "execution_count": null,
   "metadata": {
    "collapsed": true
   },
   "outputs": [],
   "source": [
    "set.seed(111)# initialisation de la suite aléatoire\n",
    "\n",
    "npop=nrow(Data)\n",
    "# tirage de 20% d'indices sans remise\n",
    "n=0.2*npop\n",
    "testi=sample(1:npop,n)\n",
    "\n",
    "#Liste des indices restant qui n’ont pas été tirés\n",
    "appri=setdiff(1:npop,testi)\n",
    "\n",
    "# Extraction échantillons d’apprentissage\n",
    "DataAppt=Data[appri,]\n",
    "# Extraction échantillons de test\n",
    "DataTest=Data[testi,]"
   ]
  },
  {
   "cell_type": "code",
   "execution_count": null,
   "metadata": {
    "collapsed": true
   },
   "outputs": [],
   "source": [
    "dim(Data)\n",
    "dim(DataAppt)\n",
    "dim(DataTest)"
   ]
  },
  {
   "cell_type": "markdown",
   "metadata": {},
   "source": [
    "# 5 - Modèle linéaire"
   ]
  },
  {
   "cell_type": "code",
   "execution_count": null,
   "metadata": {
    "collapsed": true
   },
   "outputs": [],
   "source": [
    "plot.res=function(x,y,titre=\"titre\")\n",
    "{\n",
    "plot(x,y,col=\"blue\",xlim=c(0,20),ylim=c(-10,15),\n",
    "ylab=\"Résidus\",xlab=\"Valeurs predites\",main=titre,pch=20)\n",
    "abline(h=0,col=\"green\")\n",
    "}"
   ]
  },
  {
   "cell_type": "markdown",
   "metadata": {},
   "source": [
    "## 5.1 - Modèle \"Brut\", avec toutes les variables"
   ]
  },
  {
   "cell_type": "code",
   "execution_count": null,
   "metadata": {
    "collapsed": true,
    "scrolled": false
   },
   "outputs": [],
   "source": [
    "# estimation du modèle sans interaction\n",
    "reg.lm=glm(G3~.,data=DataAppt[,-c(31,32)])\n",
    "# Extraction des résidus et des valeurs ajustées\n",
    "# de ce modèle\n",
    "res.lm=reg.lm$residuals\n",
    "fit.lm=reg.lm$fitted.values\n",
    "# graphe des résidus\n",
    "# Définition d'une fonction pour un graphe coloré et \n",
    "# des échelles fixes sur les axes\n",
    "options(repr.plot.width=10, repr.plot.height=10)\n",
    "plot.res(fit.lm,res.lm,\"Résidus en fonction des valeurs prédites\")"
   ]
  },
  {
   "cell_type": "code",
   "execution_count": null,
   "metadata": {
    "collapsed": true,
    "scrolled": true
   },
   "outputs": [],
   "source": [
    "plot(fit.lm, DataAppt$G3, ylab=\"Valeurs observées\",xlab=\"Valeurs predites\",main=\"Valeurs observées en fonction des valeurs prédites pour la note G3\")"
   ]
  },
  {
   "cell_type": "code",
   "execution_count": null,
   "metadata": {
    "collapsed": true,
    "scrolled": true
   },
   "outputs": [],
   "source": [
    "summary(reg.lm)"
   ]
  },
  {
   "cell_type": "markdown",
   "metadata": {},
   "source": [
    "## 5.2 - Sélection de variables par algorithme Backward"
   ]
  },
  {
   "cell_type": "code",
   "execution_count": null,
   "metadata": {
    "collapsed": true,
    "scrolled": true
   },
   "outputs": [],
   "source": [
    "start_time <- Sys.time()\n",
    "\n",
    "reg.lm_back=glm(G3~.,data=DataAppt[,-c(31,32)]) #On enlève G1 et G2 qui influencent trop G3\n",
    "reg.lm_back.step=step(reg.lm_back,direction=\"backward\")\n",
    "end_time <- Sys.time()\n",
    "t=end_time - start_time\n",
    "t"
   ]
  },
  {
   "cell_type": "code",
   "execution_count": null,
   "metadata": {
    "collapsed": true,
    "scrolled": false
   },
   "outputs": [],
   "source": [
    "res.lm_back=reg.lm_back.step$residuals\n",
    "fit.lm_back=reg.lm_back.step$fitted.values\n",
    "plot.res(fit.lm_back,res.lm_back,\"\")"
   ]
  },
  {
   "cell_type": "code",
   "execution_count": null,
   "metadata": {
    "collapsed": true,
    "scrolled": true
   },
   "outputs": [],
   "source": [
    "plot(fit.lm_back, DataAppt$G3, ylab=\"Valeurs observées\",xlab=\"Valeurs predites\",main=\"Valeurs observées en fonction des valeurs prédites pour la note G3\")"
   ]
  },
  {
   "cell_type": "code",
   "execution_count": null,
   "metadata": {
    "collapsed": true,
    "scrolled": false
   },
   "outputs": [],
   "source": [
    "summary(reg.lm_back.step)"
   ]
  },
  {
   "cell_type": "code",
   "execution_count": null,
   "metadata": {
    "collapsed": true
   },
   "outputs": [],
   "source": [
    "anova(reg.lm_back.step,test='F')"
   ]
  },
  {
   "cell_type": "code",
   "execution_count": null,
   "metadata": {
    "collapsed": true
   },
   "outputs": [],
   "source": [
    "cv.glm(DataAppt[,-c(31,32)],reg.lm_back.step,K=10)$delta[1]"
   ]
  },
  {
   "cell_type": "markdown",
   "metadata": {},
   "source": [
    "## 5.3 - Sélection de variables par algorithme Forward"
   ]
  },
  {
   "cell_type": "code",
   "execution_count": null,
   "metadata": {
    "collapsed": true
   },
   "outputs": [],
   "source": [
    "start_time <- Sys.time()\n",
    "\n",
    "reg.lm_for=glm(G3~1,data=DataAppt[,-c(31,32)])\n",
    "reg.lm_for.step=step(reg.lm_for,direction=\"forward\",scope=list(lower=~1,upper=~school+sex+address+famsize+Pstatus+Mjob+Fjob+reason+\n",
    "                                                      guardian+schoolsup+famsup+paid+activities+nursery+higher+internet+\n",
    "                                                      romantic+age+absences+Medu+Fedu+traveltime+studytime+failures+\n",
    "                                                      famrel+freetime+goout+Dalc+Walc+health))\n",
    "end_time <- Sys.time()\n",
    "t=end_time - start_time\n",
    "t"
   ]
  },
  {
   "cell_type": "code",
   "execution_count": null,
   "metadata": {
    "collapsed": true
   },
   "outputs": [],
   "source": [
    "res.lm_for=reg.lm_for.step$residuals\n",
    "fit.lm_for=reg.lm_for.step$fitted.values\n",
    "plot.res(fit.lm_for,res.lm_for,\"\")"
   ]
  },
  {
   "cell_type": "code",
   "execution_count": null,
   "metadata": {
    "collapsed": true,
    "scrolled": true
   },
   "outputs": [],
   "source": [
    "plot(fit.lm, DataAppt$G3, ylab=\"Valeurs observées\",xlab=\"Valeurs predites\",main=\"Valeurs observées en fonction des valeurs prédites pour la note G3\")"
   ]
  },
  {
   "cell_type": "code",
   "execution_count": null,
   "metadata": {
    "collapsed": true,
    "scrolled": true
   },
   "outputs": [],
   "source": [
    "summary(reg.lm_for.step)"
   ]
  },
  {
   "cell_type": "code",
   "execution_count": null,
   "metadata": {
    "collapsed": true
   },
   "outputs": [],
   "source": [
    "anova(reg.lm_for.step,test='F')"
   ]
  },
  {
   "cell_type": "code",
   "execution_count": null,
   "metadata": {
    "collapsed": true
   },
   "outputs": [],
   "source": [
    "cv.glm(DataAppt[,-c(31,32)],reg.lm_for.step,K=10)$delta[1]"
   ]
  },
  {
   "cell_type": "markdown",
   "metadata": {},
   "source": [
    "## 5.4 - Sélection de variables par algorithme Both"
   ]
  },
  {
   "cell_type": "code",
   "execution_count": null,
   "metadata": {
    "collapsed": true
   },
   "outputs": [],
   "source": [
    "start_time <- Sys.time()\n",
    "\n",
    "reg.lm_both=glm(G3~1,data=DataAppt[,-c(31,32)])\n",
    "reg.lm_both.step=step(reg.lm_both,direction=\"both\",scope=list(lower=~1,upper=~school+sex+address+famsize+Pstatus+Mjob+Fjob+reason+\n",
    "                                                      guardian+schoolsup+famsup+paid+activities+nursery+higher+internet+\n",
    "                                                      romantic+age+absences+Medu+Fedu+traveltime+studytime+failures+\n",
    "                                                      famrel+freetime+goout+Dalc+Walc+health))\n",
    "end_time <- Sys.time()\n",
    "t=end_time - start_time\n",
    "t"
   ]
  },
  {
   "cell_type": "code",
   "execution_count": null,
   "metadata": {
    "collapsed": true,
    "scrolled": true
   },
   "outputs": [],
   "source": [
    "res.lm_both=reg.lm_both.step$residuals\n",
    "fit.lm_both=reg.lm_both.step$fitted.values\n",
    "plot.res(fit.lm_both,res.lm_both,\"\")"
   ]
  },
  {
   "cell_type": "code",
   "execution_count": null,
   "metadata": {
    "collapsed": true,
    "scrolled": true
   },
   "outputs": [],
   "source": [
    "plot(fit.lm_both, DataAppt$G3, ylab=\"Valeurs observées\",xlab=\"Valeurs predites\",main=\"Valeurs observées en fonction des valeurs prédites pour la note G3\")"
   ]
  },
  {
   "cell_type": "code",
   "execution_count": null,
   "metadata": {
    "collapsed": true,
    "scrolled": true
   },
   "outputs": [],
   "source": [
    "summary(reg.lm_both.step)"
   ]
  },
  {
   "cell_type": "code",
   "execution_count": null,
   "metadata": {
    "collapsed": true
   },
   "outputs": [],
   "source": [
    "anova(reg.lm_both.step,test='F')"
   ]
  },
  {
   "cell_type": "code",
   "execution_count": null,
   "metadata": {
    "collapsed": true
   },
   "outputs": [],
   "source": [
    "cv.glm(DataAppt[,-c(31,32)],reg.lm_both.step,K=10)$delta[1]"
   ]
  },
  {
   "cell_type": "markdown",
   "metadata": {},
   "source": [
    "# 6 - Modèle linéaire avec interactions"
   ]
  },
  {
   "cell_type": "markdown",
   "metadata": {},
   "source": [
    "## 6.1 - Sélection de variables par algorithme Backward"
   ]
  },
  {
   "cell_type": "markdown",
   "metadata": {},
   "source": [
    "Algorithme non implémenté : part d'un modèle trop compliqué et met par conséquent trop de temps à tourner."
   ]
  },
  {
   "cell_type": "code",
   "execution_count": null,
   "metadata": {
    "collapsed": true
   },
   "outputs": [],
   "source": [
    "# Estimation du modèle de toute interaction d'ordre 2\n",
    "    #reg.glm_back_quad=glm(G3~(.)^2,data=DataAppt[,-c(31,32)])\n",
    "# Recherche du meilleur modèle au sens \n",
    "# du critère d'Akaïke par méthode descendante\n",
    "    #reg.glm_back_quad.step=step(reg.glm_back_quad,direction=\"backward\")"
   ]
  },
  {
   "cell_type": "code",
   "execution_count": null,
   "metadata": {
    "collapsed": true,
    "scrolled": true
   },
   "outputs": [],
   "source": [
    "# Coefficients du modèle\n",
    "    #anova(reg.glm_back_quad.step,test=\"F\")"
   ]
  },
  {
   "cell_type": "code",
   "execution_count": null,
   "metadata": {
    "collapsed": true,
    "scrolled": true
   },
   "outputs": [],
   "source": [
    "# Extraction des valeurs ajustées et des résidus\n",
    "    #fit.glm_back_quad=reg.glm_back_quad.step$fitted.values\n",
    "    #res.glm_back_quad=reg.glm_back_quad.step$residuals\n",
    "# Graphe des résidus\n",
    "    #plot.res(fit.glm_back_quad,res.glm_back_quad,\"\")"
   ]
  },
  {
   "cell_type": "code",
   "execution_count": null,
   "metadata": {
    "collapsed": true
   },
   "outputs": [],
   "source": [
    "    #cv.glm(DataAppt[,-c(31,32)],reg.glm_back_quad.step,K=10)$delta[1]"
   ]
  },
  {
   "cell_type": "markdown",
   "metadata": {},
   "source": [
    "## 6.2 - Sélection de variables par algorithme Forward"
   ]
  },
  {
   "cell_type": "code",
   "execution_count": null,
   "metadata": {
    "collapsed": true
   },
   "outputs": [],
   "source": [
    "# Estimation du modèle de toute interaction d'ordre 2\n",
    "start_time <- Sys.time()\n",
    "\n",
    "reg.glm_for_quad=glm(G3~1,data=DataAppt[,-c(31,32)])\n",
    "reg.glm_for_quad.step=step(reg.glm_for_quad,,direction=\"forward\",scope=list(lower=~1,upper=~(school+sex+address+famsize+Pstatus+Mjob+Fjob+reason+\n",
    "                                                      guardian+schoolsup+famsup+paid+activities+nursery+higher+internet+\n",
    "                                                      romantic+age+absences+Medu+Fedu+traveltime+studytime+failures+\n",
    "                                                      famrel+freetime+goout+Dalc+Walc+health)^2))\n",
    "end_time <- Sys.time()\n",
    "t=end_time - start_time\n",
    "t"
   ]
  },
  {
   "cell_type": "code",
   "execution_count": null,
   "metadata": {
    "collapsed": true,
    "scrolled": true
   },
   "outputs": [],
   "source": [
    "# Coefficients du modèle\n",
    "anova(reg.glm_for_quad.step,test=\"F\")"
   ]
  },
  {
   "cell_type": "code",
   "execution_count": null,
   "metadata": {
    "collapsed": true,
    "scrolled": true
   },
   "outputs": [],
   "source": [
    "summary(reg.glm_for_quad.step)"
   ]
  },
  {
   "cell_type": "code",
   "execution_count": null,
   "metadata": {
    "collapsed": true,
    "scrolled": false
   },
   "outputs": [],
   "source": [
    "# Extraction des valeurs ajustées et des résidus\n",
    "fit.glm_for_quad=reg.glm_for_quad.step$fitted.values\n",
    "res.glm_for_quad=reg.glm_for_quad.step$residuals\n",
    "# Graphe des résidus\n",
    "plot.res(fit.glm_for_quad,res.glm_for_quad,\"\")"
   ]
  },
  {
   "cell_type": "code",
   "execution_count": null,
   "metadata": {
    "collapsed": true,
    "scrolled": false
   },
   "outputs": [],
   "source": [
    "plot(fit.glm_for_quad, DataAppt$G3, ylab=\"Valeurs observées\",xlab=\"Valeurs predites\",main=\"Valeurs observées en fonction des valeurs prédites pour la note G3\")"
   ]
  },
  {
   "cell_type": "code",
   "execution_count": null,
   "metadata": {
    "collapsed": true
   },
   "outputs": [],
   "source": [
    "cv.glm(DataAppt[,-c(31,32)],reg.glm_for_quad.step,K=10)$delta[1]"
   ]
  },
  {
   "cell_type": "markdown",
   "metadata": {},
   "source": [
    "## 6.3 - Sélection de variables par algorithme Both"
   ]
  },
  {
   "cell_type": "code",
   "execution_count": null,
   "metadata": {
    "collapsed": true
   },
   "outputs": [],
   "source": [
    "# Estimation du modèle de toute interaction d'ordre 2\n",
    "start_time <- Sys.time()\n",
    "reg.glm_both_quad=glm(G3~1,data=DataAppt[,-c(31,32)])\n",
    "reg.glm_both_quad.step=step(reg.glm_both_quad,direction=\"both\",scope=list(lower=~1,upper=~(school+sex+address+famsize+Pstatus+Mjob+Fjob+reason+\n",
    "                                                      guardian+schoolsup+famsup+paid+activities+nursery+higher+internet+\n",
    "                                                      romantic+age+absences+Medu+Fedu+traveltime+studytime+failures+\n",
    "                                                      famrel+freetime+goout+Dalc+Walc+health)^2))\n",
    "end_time <- Sys.time()\n",
    "t=end_time - start_time\n",
    "t"
   ]
  },
  {
   "cell_type": "code",
   "execution_count": null,
   "metadata": {
    "collapsed": true,
    "scrolled": true
   },
   "outputs": [],
   "source": [
    "# Coefficients du modèle\n",
    "anova(reg.glm_both_quad.step,test=\"F\")"
   ]
  },
  {
   "cell_type": "code",
   "execution_count": null,
   "metadata": {
    "collapsed": true,
    "scrolled": false
   },
   "outputs": [],
   "source": [
    "# Extraction des valeurs ajustées et des résidus\n",
    "fit.glm_both_quad=reg.glm_both_quad.step$fitted.values\n",
    "res.glm_both_quad=reg.glm_both_quad.step$residuals\n",
    "# Graphe des résidus\n",
    "plot.res(fit.glm_both_quad,res.glm_both_quad,\"\")"
   ]
  },
  {
   "cell_type": "code",
   "execution_count": null,
   "metadata": {
    "collapsed": true,
    "scrolled": true
   },
   "outputs": [],
   "source": [
    "plot(fit.glm_both_quad, DataAppt$G3, ylab=\"Valeurs observées\",xlab=\"Valeurs predites\",main=\"Valeurs observées en fonction des valeurs prédites pour la note G3\")"
   ]
  },
  {
   "cell_type": "code",
   "execution_count": null,
   "metadata": {
    "collapsed": true
   },
   "outputs": [],
   "source": [
    "cv.glm(DataAppt[,-c(31,32)],reg.glm_both_quad.step,K=10)$delta[1]"
   ]
  },
  {
   "cell_type": "markdown",
   "metadata": {
    "collapsed": true
   },
   "source": [
    "# 7 - Bilan : comparaison entre les 5 modèles linéaires précédents"
   ]
  },
  {
   "cell_type": "code",
   "execution_count": null,
   "metadata": {
    "collapsed": true
   },
   "outputs": [],
   "source": [
    "\"Modèle linéaire Backward :\"\n",
    "cv.glm(DataAppt[,-c(31,32)],reg.lm_back.step,K=10)$delta[1]\n",
    "\"Modèle linéaire Forward :\"\n",
    "cv.glm(DataAppt[,-c(31,32)],reg.lm_for.step,K=10)$delta[1]\n",
    "\"Modèle linéaire Both :\"\n",
    "cv.glm(DataAppt[,-c(31,32)],reg.lm_both.step,K=10)$delta[1]\n",
    "\"Modèle linéaire quadratique Forward :\"\n",
    "cv.glm(DataAppt[,-c(31,32)],reg.glm_for_quad.step,K=10)$delta[1]\n",
    "\"Modèle linéaire quadratique Both :\"\n",
    "cv.glm(DataAppt[,-c(31,32)],reg.glm_both_quad.step,K=10)$delta[1]"
   ]
  },
  {
   "cell_type": "markdown",
   "metadata": {},
   "source": [
    "# 8 - Préivision sur l'échantillon test pour chacun des modèles précédents"
   ]
  },
  {
   "cell_type": "markdown",
   "metadata": {},
   "source": [
    "#### Prévision modèle linéaire, par méthode backward"
   ]
  },
  {
   "cell_type": "code",
   "execution_count": null,
   "metadata": {
    "collapsed": true
   },
   "outputs": [],
   "source": [
    "predTest_back=predict(reg.lm_back.step,newdata=DataTest)\n",
    "#predTest\n",
    "table(ceiling(predTest_back),DataTest$G3)"
   ]
  },
  {
   "cell_type": "code",
   "execution_count": null,
   "metadata": {
    "collapsed": true
   },
   "outputs": [],
   "source": [
    "sum((predTest_back-DataTest[,\"G3\"])^2)/nrow(DataTest)"
   ]
  },
  {
   "cell_type": "markdown",
   "metadata": {},
   "source": [
    "#### Prévision modèle linéaire, par méthode forward"
   ]
  },
  {
   "cell_type": "code",
   "execution_count": null,
   "metadata": {
    "collapsed": true
   },
   "outputs": [],
   "source": [
    "predTest_for=predict(reg.lm_for.step,newdata=DataTest)\n",
    "#predTest\n",
    "table(ceiling(predTest_for),DataTest$G3)"
   ]
  },
  {
   "cell_type": "code",
   "execution_count": null,
   "metadata": {
    "collapsed": true
   },
   "outputs": [],
   "source": [
    "sum((predTest_for-DataTest[,\"G3\"])^2)/nrow(DataTest)"
   ]
  },
  {
   "cell_type": "markdown",
   "metadata": {},
   "source": [
    "#### Prévision modèle linéaire, par méthode both"
   ]
  },
  {
   "cell_type": "code",
   "execution_count": null,
   "metadata": {
    "collapsed": true
   },
   "outputs": [],
   "source": [
    "predTest_both=predict(reg.lm_both.step,newdata=DataTest)\n",
    "#predTest\n",
    "table(ceiling(predTest_both),DataTest$G3)"
   ]
  },
  {
   "cell_type": "code",
   "execution_count": null,
   "metadata": {
    "collapsed": true
   },
   "outputs": [],
   "source": [
    "sum((predTest_both-DataTest[,\"G3\"])^2)/nrow(DataTest)"
   ]
  },
  {
   "cell_type": "markdown",
   "metadata": {},
   "source": [
    "#### Prévision modèle linéaire avec interaction, par méthode forward"
   ]
  },
  {
   "cell_type": "code",
   "execution_count": null,
   "metadata": {
    "collapsed": true
   },
   "outputs": [],
   "source": [
    "predTest_for_quad=predict(reg.glm_for_quad.step,newdata=DataTest)\n",
    "#predTest\n",
    "table(ceiling(predTest_for_quad),DataTest$G3)"
   ]
  },
  {
   "cell_type": "code",
   "execution_count": null,
   "metadata": {
    "collapsed": true
   },
   "outputs": [],
   "source": [
    "sum((predTest_for_quad-DataTest[,\"G3\"])^2)/nrow(DataTest)"
   ]
  },
  {
   "cell_type": "markdown",
   "metadata": {},
   "source": [
    "#### Prévision modèle linéaire avec interaction, par méthode both"
   ]
  },
  {
   "cell_type": "code",
   "execution_count": null,
   "metadata": {
    "collapsed": true
   },
   "outputs": [],
   "source": [
    "predTest_both_quad=predict(reg.glm_both_quad.step,newdata=DataTest)\n",
    "#predTest\n",
    "table(ceiling(predTest_both_quad),DataTest$G3)"
   ]
  },
  {
   "cell_type": "code",
   "execution_count": null,
   "metadata": {
    "collapsed": true
   },
   "outputs": [],
   "source": [
    "sum((predTest_both_quad-DataTest[,\"G3\"])^2)/nrow(DataTest)"
   ]
  },
  {
   "cell_type": "markdown",
   "metadata": {},
   "source": [
    "### Graphe valeurs observées en fonction des valeurs prédites"
   ]
  },
  {
   "cell_type": "code",
   "execution_count": null,
   "metadata": {
    "collapsed": true,
    "scrolled": false
   },
   "outputs": [],
   "source": [
    "par(mfrow=c(1,2))\n",
    "plot(fit.lm_both, DataAppt$G3, ylab=\"Valeurs observées\",xlab=\"Valeurs predites\", main=\"Modèle linéaire\");\n",
    "plot(fit.glm_both_quad, DataAppt$G3, ylab=\"Valeurs observées\",xlab=\"Valeurs predites\", main=\"modèle quadratique\")"
   ]
  },
  {
   "cell_type": "markdown",
   "metadata": {
    "collapsed": true
   },
   "source": [
    "# 9 - Arbre de décision"
   ]
  },
  {
   "cell_type": "markdown",
   "metadata": {},
   "source": [
    "## 9.1 - Construction du modèle"
   ]
  },
  {
   "cell_type": "code",
   "execution_count": null,
   "metadata": {
    "collapsed": true
   },
   "outputs": [],
   "source": [
    "library(rpart)"
   ]
  },
  {
   "cell_type": "code",
   "execution_count": null,
   "metadata": {
    "collapsed": true
   },
   "outputs": [],
   "source": [
    "start_time <- Sys.time()\n",
    "\n",
    "tree.reg=rpart(G3~.,data=DataAppt[,-c(31,32)],control=rpart.control(cp=0.001))\n",
    "\n",
    "end_time <- Sys.time()\n",
    "t=end_time - start_time\n",
    "t"
   ]
  },
  {
   "cell_type": "code",
   "execution_count": null,
   "metadata": {
    "collapsed": true
   },
   "outputs": [],
   "source": [
    "plot(tree.reg)\n",
    "text(tree.reg)"
   ]
  },
  {
   "cell_type": "markdown",
   "metadata": {},
   "source": [
    "## 9.2 - Optimisation de l'élagage de l'arbre"
   ]
  },
  {
   "cell_type": "code",
   "execution_count": null,
   "metadata": {
    "collapsed": true
   },
   "outputs": [],
   "source": [
    "xmat=xpred.rpart(tree.reg)\n",
    "xerr=(xmat-DataAppt[,-c(31,32)][,\"G3\"])^2\n",
    "CVerr=apply(xerr,2,sum)\n",
    "CVerr  #    CP           erreur"
   ]
  },
  {
   "cell_type": "code",
   "execution_count": null,
   "metadata": {
    "collapsed": true
   },
   "outputs": [],
   "source": [
    "as.numeric(attributes(which.min(CVerr))$names) #Le cp qui minimise l'erreur pour faire un arbre simplifié"
   ]
  },
  {
   "cell_type": "code",
   "execution_count": null,
   "metadata": {
    "collapsed": true
   },
   "outputs": [],
   "source": [
    "start_time <- Sys.time()\n",
    "\n",
    "tree.reg=rpart(G3~.,data=DataAppt[,-c(31,32)],control=rpart.control(cp=as.numeric(attributes(which.min(CVerr))$names)))\n",
    "\n",
    "end_time <- Sys.time()\n",
    "t=end_time - start_time\n",
    "t\n"
   ]
  },
  {
   "cell_type": "code",
   "execution_count": null,
   "metadata": {
    "collapsed": true
   },
   "outputs": [],
   "source": [
    "library(partykit)"
   ]
  },
  {
   "cell_type": "code",
   "execution_count": null,
   "metadata": {
    "collapsed": true
   },
   "outputs": [],
   "source": [
    "options(repr.plot.width=13, repr.plot.height=8)\n",
    "\n",
    "plot(as.party(tree.reg), type=\"simple\")"
   ]
  },
  {
   "cell_type": "markdown",
   "metadata": {},
   "source": [
    "## 9.3 - Prédiction sur l'échantillon test"
   ]
  },
  {
   "cell_type": "code",
   "execution_count": null,
   "metadata": {
    "collapsed": true
   },
   "outputs": [],
   "source": [
    "#Prédiction sur l'échantillon test\n",
    "predTest_DT=predict(tree.reg,newdata=DataTest)\n",
    "\n",
    "\n",
    "# Arrondi des prédiction pour comparaison avec valeurs réelles\n",
    "n = dim(DataTest)[1]\n",
    "\n",
    "predTest_rounded = predTest_DT\n",
    "for (i in 1:n){\n",
    "    if (ceiling(predTest_rounded[i])-predTest_rounded[i] <0.5){\n",
    "        predTest_rounded[i] = ceiling(predTest_rounded[i])\n",
    "    } else{\n",
    "        predTest_rounded[i] = floor(predTest_rounded[i])\n",
    "    }\n",
    "}\n",
    "\n",
    "#affichage\n",
    "table(ceiling(predTest_rounded),DataTest$G3)\n",
    "sum((predTest_rounded-DataTest[,\"G3\"])^2)/nrow(DataTest)"
   ]
  },
  {
   "cell_type": "markdown",
   "metadata": {},
   "source": [
    "# 10 - Random Forest"
   ]
  },
  {
   "cell_type": "markdown",
   "metadata": {},
   "source": [
    "## 10.1 - Construction du modèle"
   ]
  },
  {
   "cell_type": "code",
   "execution_count": null,
   "metadata": {
    "collapsed": true
   },
   "outputs": [],
   "source": [
    "library(randomForest)"
   ]
  },
  {
   "cell_type": "code",
   "execution_count": null,
   "metadata": {
    "collapsed": true
   },
   "outputs": [],
   "source": [
    "start_time <- Sys.time()\n",
    "\n",
    "rf.reg=randomForest(G3~., data=DataAppt[,-c(31,32)],xtest=DataTest[,-c(31,32,33)],ytest=DataTest[,\"G3\"],\n",
    "   ntree=500,do.trace=50,importance=TRUE, mtry=10)\n",
    "\n",
    "end_time <- Sys.time()\n",
    "t=end_time - start_time\n",
    "t\n"
   ]
  },
  {
   "cell_type": "code",
   "execution_count": null,
   "metadata": {
    "collapsed": true,
    "scrolled": false
   },
   "outputs": [],
   "source": [
    "fit.rfr=rf.reg$predicted\n",
    "res.rfr=fit.rfr-DataAppt[,\"G3\"]\n",
    "plot.res(fit.rfr,res.rfr,titre=\"\")"
   ]
  },
  {
   "cell_type": "markdown",
   "metadata": {},
   "source": [
    "## 10.2 - Prévision sur l'échantillon test"
   ]
  },
  {
   "cell_type": "code",
   "execution_count": null,
   "metadata": {
    "collapsed": true
   },
   "outputs": [],
   "source": [
    "pred.rf=rf.reg$test$predicted\n",
    "\n",
    "table(ceiling(pred.rf),DataTest$G3)\n",
    "# Erreur quadratique moyenne de prévision\n",
    "sum((pred.rf-DataTest[,\"G3\"])^2)/nrow(DataTest)"
   ]
  },
  {
   "cell_type": "markdown",
   "metadata": {},
   "source": [
    "## 10.3 - Importance des variables pour le Random Forest"
   ]
  },
  {
   "cell_type": "code",
   "execution_count": null,
   "metadata": {
    "collapsed": true,
    "scrolled": true
   },
   "outputs": [],
   "source": [
    "sort(round(importance(rf.reg), 2)[,1], decreasing=TRUE)"
   ]
  },
  {
   "cell_type": "markdown",
   "metadata": {
    "collapsed": true
   },
   "source": [
    "## 10.4 - Avec le package Ranger (au lieu de Random Forest)"
   ]
  },
  {
   "cell_type": "code",
   "execution_count": null,
   "metadata": {
    "collapsed": true
   },
   "outputs": [],
   "source": [
    "library(ranger)"
   ]
  },
  {
   "cell_type": "code",
   "execution_count": null,
   "metadata": {
    "collapsed": true
   },
   "outputs": [],
   "source": [
    "start_time <- Sys.time()\n",
    "rf <- ranger(G3 ~ ., data=DataAppt[,-c(31,32)], num.trees = 500,\n",
    "             importance ='impurity_corrected', mtry = 10)#, min.node.size=3)\n",
    "\n",
    "end_time <- Sys.time()\n",
    "t=end_time - start_time\n",
    "t\n",
    "\n",
    "pred <- predict(rf, DataTest) \n",
    "#pred$predictions\n",
    "\n",
    "table(ceiling(pred$predictions),DataTest$G3)\n",
    "# Erreur quadratique moyenne de prévision\n",
    "sum((pred$predictions-DataTest[,\"G3\"])^2)/nrow(DataTest)"
   ]
  },
  {
   "cell_type": "code",
   "execution_count": null,
   "metadata": {
    "collapsed": true
   },
   "outputs": [],
   "source": [
    "fit.rfr = predictions(rf, num.trees = ranger_RF$num.trees)\n",
    "res.rfr=fit.rfr-DataAppt[,\"G3\"]\n",
    "plot.res(fit.rfr,res.rfr,titre=\"\")"
   ]
  },
  {
   "cell_type": "code",
   "execution_count": null,
   "metadata": {
    "collapsed": true
   },
   "outputs": [],
   "source": [
    "sort(rf$variable.importance, decreasing=TRUE)"
   ]
  },
  {
   "cell_type": "markdown",
   "metadata": {},
   "source": [
    "# 11 - Algorithme de Boosting : GBM"
   ]
  },
  {
   "cell_type": "markdown",
   "metadata": {},
   "source": [
    "## 11.1 - Construction du modèle"
   ]
  },
  {
   "cell_type": "code",
   "execution_count": null,
   "metadata": {
    "collapsed": true
   },
   "outputs": [],
   "source": [
    "library(gbm)"
   ]
  },
  {
   "cell_type": "code",
   "execution_count": null,
   "metadata": {
    "collapsed": true
   },
   "outputs": [],
   "source": [
    "n_trees=80"
   ]
  },
  {
   "cell_type": "code",
   "execution_count": null,
   "metadata": {
    "collapsed": true,
    "scrolled": true
   },
   "outputs": [],
   "source": [
    "boost.reg=gbm(G3~., data=DataAppt,distribution=\"gaussian\",n.trees=n_trees, cv.folds=10,\n",
    "        n.minobsinnode = 5,shrinkage=0.1,verbose=FALSE)\n",
    "plot(boost.reg$cv.error)"
   ]
  },
  {
   "cell_type": "code",
   "execution_count": null,
   "metadata": {
    "collapsed": true,
    "scrolled": true
   },
   "outputs": [],
   "source": [
    "# nombre optimal d'itérations par valiation croisée\n",
    "best.iter=gbm.perf(boost.reg,method=\"cv\")"
   ]
  },
  {
   "cell_type": "code",
   "execution_count": null,
   "metadata": {
    "collapsed": true,
    "scrolled": true
   },
   "outputs": [],
   "source": [
    "test=numeric()\n",
    "for (i in 10:n_trees){\n",
    "pred.test=predict(boost.reg,newdata=DataTest,n.trees=i)\n",
    "err=sum((pred.test-DataTest[,\"G3\"])^2)/nrow(DataTest)\n",
    "test=c(test,err)}\n",
    "plot(10:n_trees,test,type=\"l\")\n",
    "abline(v=best.iter)"
   ]
  },
  {
   "cell_type": "code",
   "execution_count": null,
   "metadata": {
    "collapsed": true
   },
   "outputs": [],
   "source": [
    "fit.boostr=boost.reg$fit\n",
    "res.boostr=fit.boostr-DataAppt[,\"G3\"]\n",
    "plot.res(fit.boostr,res.boostr,titre=\"\")"
   ]
  },
  {
   "cell_type": "markdown",
   "metadata": {},
   "source": [
    "## 11.2 - Prédiction sur l'échantillon test"
   ]
  },
  {
   "cell_type": "code",
   "execution_count": null,
   "metadata": {
    "collapsed": true
   },
   "outputs": [],
   "source": [
    "best.iter\n",
    "\n",
    "pred <- predict(boost.reg, DataTest,n.trees=best.iter) \n",
    "\n",
    "pred"
   ]
  },
  {
   "cell_type": "code",
   "execution_count": null,
   "metadata": {
    "collapsed": true
   },
   "outputs": [],
   "source": [
    "table(ceiling(pred),DataTest$G3)\n",
    "# Erreur quadratique moyenne de prévision\n",
    "sum((pred-DataTest[,\"G3\"])^2)/nrow(DataTest)"
   ]
  },
  {
   "cell_type": "markdown",
   "metadata": {},
   "source": [
    "# 12 - Utilisation du package Caret\n",
    "\n",
    "Réalisation de 50 itérations par méthode pour évaluer le temps de calcul moyen d'exécution des algorithmes."
   ]
  },
  {
   "cell_type": "code",
   "execution_count": null,
   "metadata": {
    "collapsed": true
   },
   "outputs": [],
   "source": [
    "library(caret)\n"
   ]
  },
  {
   "cell_type": "markdown",
   "metadata": {
    "collapsed": true
   },
   "source": [
    "## 12.1 - Séparation Apprentissage / Test"
   ]
  },
  {
   "cell_type": "code",
   "execution_count": null,
   "metadata": {
    "collapsed": true
   },
   "outputs": [],
   "source": [
    "Y=Data[,\"G3\"]\n",
    "X=Data[,-c(31,32,33)]"
   ]
  },
  {
   "cell_type": "code",
   "execution_count": null,
   "metadata": {
    "collapsed": true
   },
   "outputs": [],
   "source": [
    "xx=11\n",
    "set.seed(xx)\n",
    "inTrain = createDataPartition(X[,1],p = 0.8, list = FALSE)\n",
    "# Extraction des échantillons\n",
    "trainDescr=X[inTrain,]\n",
    "testDescr=X[-inTrain,]\n",
    "testY=Y[-inTrain]\n",
    "trainY=Y[inTrain]"
   ]
  },
  {
   "cell_type": "code",
   "execution_count": null,
   "metadata": {
    "collapsed": true
   },
   "outputs": [],
   "source": [
    "# Normalisation calculée sur les paramètres de l'échantillon d'apprentissage\n",
    "xTrans=preProcess(trainDescr)\n",
    "trainDescr=predict(xTrans,trainDescr)\n",
    "# Puis appliquée également à l'échantillon test\n",
    "testDescr=predict(xTrans,testDescr)\n",
    "# Choix de la validation croisée\n",
    "cvControl=trainControl(method=\"cv\",number=10)"
   ]
  },
  {
   "cell_type": "markdown",
   "metadata": {
    "collapsed": true
   },
   "source": [
    "## 12.2 - Modèle linéaire"
   ]
  },
  {
   "cell_type": "code",
   "execution_count": null,
   "metadata": {
    "collapsed": true
   },
   "outputs": [],
   "source": [
    "#Régression logistique\n",
    "# Attention, la régression logistique sans interaction (linéaire) est estimée ci-dessous\n",
    "t_tot = vector(\"numeric\", 50)\n",
    "for (i in 1:50){\n",
    "    start_time <- Sys.time()\n",
    "    set.seed(2)\n",
    "    rlogFit = train(trainDescr, trainY,method = \"glmStepAIC\", tuneLength = 10,\n",
    "                    trControl = cvControl)\n",
    "\n",
    "    end_time <- Sys.time()\n",
    "    t=end_time - start_time\n",
    "    t_tot[i]=t\n",
    "    }"
   ]
  },
  {
   "cell_type": "code",
   "execution_count": null,
   "metadata": {
    "collapsed": true
   },
   "outputs": [],
   "source": [
    "t_tot\n",
    "mean(t_tot)"
   ]
  },
  {
   "cell_type": "markdown",
   "metadata": {},
   "source": [
    "## 12.3 - Arbre de décision"
   ]
  },
  {
   "cell_type": "code",
   "execution_count": null,
   "metadata": {
    "collapsed": true,
    "scrolled": true
   },
   "outputs": [],
   "source": [
    "#Arbre de décision\n",
    "t_tot= vector(\"numeric\", 50)\n",
    "\n",
    "for (i in 1:50) {\n",
    "    start_time <- Sys.time()\n",
    "\n",
    "    set.seed(2)\n",
    "    rpartFit = train(trainDescr, trainY, method = \"rpart\", tuneLength = 10,\n",
    "        trControl = cvControl)\n",
    "\n",
    "    end_time <- Sys.time()\n",
    "    t=end_time - start_time\n",
    "    t_tot[i]=t\n",
    "\n",
    "    #rpartFit\n",
    "    #plot(rpartFit)\n",
    "    }\n",
    "t_tot\n",
    "mean(t_tot)"
   ]
  },
  {
   "cell_type": "code",
   "execution_count": null,
   "metadata": {
    "collapsed": true
   },
   "outputs": [],
   "source": [
    "summary(rpartFit)"
   ]
  },
  {
   "cell_type": "markdown",
   "metadata": {
    "collapsed": true
   },
   "source": [
    "## 12.4 - Random Forest"
   ]
  },
  {
   "cell_type": "code",
   "execution_count": null,
   "metadata": {
    "collapsed": true,
    "scrolled": true
   },
   "outputs": [],
   "source": [
    "#Random forest\n",
    "t_tot= vector(\"numeric\", 50)\n",
    "for (i in 1:50) {\n",
    "    start_time <- Sys.time()\n",
    "\n",
    "    set.seed(2)\n",
    "    rfFit = train(trainDescr, trainY,method = \"rf\", tuneLength = 8,\n",
    "                  trControl = cvControl, trace=FALSE)\n",
    "\n",
    "    end_time <- Sys.time()\n",
    "    t=end_time - start_time\n",
    "    t_tot[i]=t\n",
    "\n",
    "    #rfFit\n",
    "    #plot(rfFit)\n",
    "    }\n",
    "t_tot\n",
    "mean(t_tot)"
   ]
  },
  {
   "cell_type": "code",
   "execution_count": null,
   "metadata": {
    "collapsed": true
   },
   "outputs": [],
   "source": [
    "rfFit$finalModel"
   ]
  },
  {
   "cell_type": "code",
   "execution_count": null,
   "metadata": {
    "collapsed": true
   },
   "outputs": [],
   "source": [
    "summary(rfFit)"
   ]
  },
  {
   "cell_type": "markdown",
   "metadata": {
    "collapsed": true
   },
   "source": [
    "## 12.5 - GBM"
   ]
  },
  {
   "cell_type": "code",
   "execution_count": null,
   "metadata": {
    "collapsed": true,
    "scrolled": true
   },
   "outputs": [],
   "source": [
    "# Boosting \n",
    "t_tot= vector(\"numeric\", 50)\n",
    "for (i in 1:50) {\n",
    "    start_time <- Sys.time()\n",
    "    \n",
    "    set.seed(2)\n",
    "    gbmFit = train(trainDescr, trainY,method = \"gbm\", tuneLength = 8,\n",
    "                   trControl = cvControl)\n",
    "    \n",
    "    end_time <- Sys.time()\n",
    "    t=end_time - start_time\n",
    "    t_tot[i]=t\n",
    "    \n",
    "    #gbmFit\n",
    "    #plot(gbmFit)\n",
    "    }\n",
    "t_tot\n",
    "mean(t_tot)"
   ]
  },
  {
   "cell_type": "code",
   "execution_count": null,
   "metadata": {
    "collapsed": true
   },
   "outputs": [],
   "source": [
    "summary(gbmFit)"
   ]
  },
  {
   "cell_type": "markdown",
   "metadata": {
    "collapsed": true
   },
   "source": [
    "## 12.6 - XGB"
   ]
  },
  {
   "cell_type": "code",
   "execution_count": null,
   "metadata": {
    "collapsed": true
   },
   "outputs": [],
   "source": [
    "# Extrême boosting\n",
    "t_tot= vector(\"numeric\", 50)\n",
    "for (i in 1:50) {\n",
    "    start_time <- Sys.time()\n",
    "    set.seed(2)\n",
    "    xgbFit = train(trainDescr, trainY,method = \"xgbTree\", tuneLength = 6,\n",
    "               trControl = cvControl, trace=FALSE)\n",
    "    #xgbFit\n",
    "    #plot(xgbFit)\n",
    "    end_time <- Sys.time()\n",
    "    t=end_time - start_time\n",
    "    t_tot[i]=t\n",
    "    }\n",
    "t_tot\n",
    "mean(t_tot)"
   ]
  },
  {
   "cell_type": "markdown",
   "metadata": {},
   "source": [
    "## 12.7 - Prédiction de chacun des modèles précédent"
   ]
  },
  {
   "cell_type": "code",
   "execution_count": null,
   "metadata": {
    "collapsed": true
   },
   "outputs": [],
   "source": [
    "models=list(logit=rlogFit,cart=rpartFit,rf=rfFit,gbm=gbmFit)#,xgb=xgbFit)\n",
    "testPred=predict(models, newdata = testDescr)\n",
    "#testPred"
   ]
  },
  {
   "cell_type": "code",
   "execution_count": null,
   "metadata": {
    "collapsed": true
   },
   "outputs": [],
   "source": [
    "# Erreur quadratique moyenne de prévision\n",
    "\"Régression linéaire :\"\n",
    "sum((testPred$logit-testY)^2)/nrow(testDescr)\n",
    "\n",
    "\"Arbre de décision :\"\n",
    "sum((testPred$cart-testY)^2)/nrow(testDescr)\n",
    "\n",
    "\"Random Forest :\"\n",
    "sum((testPred$rf-testY)^2)/nrow(testDescr)\n",
    "\n",
    "\"Boosting (GBM) : \"\n",
    "sum((testPred$gbm-testY)^2)/nrow(testDescr)\n",
    "\n",
    "#\"Extreme GBM :\"\n",
    "#sum((testPred$xgb-testY)^2)/nrow(DataTest)"
   ]
  },
  {
   "cell_type": "markdown",
   "metadata": {
    "collapsed": true
   },
   "source": [
    "# 13 - Itération par validation croisée de Monte Carlo\n",
    "\n",
    "## 13.1 - Réalisation de la validation croisée sur 50 itérations"
   ]
  },
  {
   "cell_type": "code",
   "execution_count": null,
   "metadata": {
    "collapsed": true
   },
   "outputs": [],
   "source": [
    "pred.autom=function(X,Y,p=1/2,methodes=c(\"knn\",\n",
    "\"rf\"),size=c(10,2),xinit=11,N=10,typerr=\"cv\",\n",
    "number=4,type=\"raw\") {\n",
    "# Fonction de prévision de N échantillons tests\n",
    "# par une liste de méthodes de régression\n",
    "# ou classification (uniquement 2 classes)\n",
    "# Optimisation des paramètres par validation\n",
    "# croisée (défaut) ou bootstrap ou... (cf. caret)\n",
    "# X : matrice ou frame des variables explicatives\n",
    "# Y : variable cible quantitative ou qualitative\n",
    "# p : proportion entre apprentissage et test\n",
    "# methodes : liste des méthodes de rdiscrimination\n",
    "# size : e grille des paramètres à optimiser\n",
    "# xinit : générateur de nombres aléatoires\n",
    "# N : nombre de réplications apprentissage/test\n",
    "# typerr : \"cv\" ou \"boo\" ou \"oob\"\n",
    "# number : nombre de répétitions CV ou bootstrap\n",
    "# pred : liste des matrices de prévision\n",
    "# type d’erreur\n",
    "Control=trainControl(method=typerr,number=number)\n",
    "# initialisation du générateur\n",
    "set.seed(xinit)\n",
    "# liste de matrices stockant les prévisions\n",
    "# une par méthode\n",
    "inTrain=createDataPartition(Y,p=p,list=FALSE)\n",
    "ntest=length(Y[-inTrain])\n",
    "pred=vector(\"list\",length(methodes))\n",
    "names(pred)=methodes\n",
    "pred=lapply(pred,function(x)x=matrix(0,\n",
    "nrow=ntest,ncol=N))\n",
    "obs=matrix(0,ntest,N)\n",
    "set.seed(xinit)\n",
    "for(i in 1:N) {\n",
    "# N itérations\n",
    "# indices de l’échantillon d’apprentissage\n",
    "inTrain=createDataPartition(Y,p=p,list=FALSE)\n",
    "# Extraction des échantillons\n",
    "trainDescr=X[inTrain,]\n",
    "testDescr=X[-inTrain,]\n",
    "trainY=Y[inTrain]\n",
    "testY=Y[-inTrain]\n",
    "# stockage des observés de testY\n",
    "obs[,i]=testY\n",
    "# centrage et réduction des variables\n",
    "xTrans=preProcess(trainDescr)\n",
    "trainDescr=predict(xTrans,trainDescr)\n",
    "testDescr=predict(xTrans,testDescr)\n",
    "# estimation et optimisation des modèles\n",
    "# pour chaque méthode de la liste\n",
    "for(j in 1:length(methodes)) {\n",
    "# modélisation\n",
    "modFit = train(trainDescr, trainY,method = methodes[j], tuneLength = size[j],\n",
    "               trControl = Control)\n",
    "print(summary(modFit))\n",
    "# prévisions\n",
    "if (type==\"prob\")  pred[[j]][,i]=predict(modFit,\n",
    "newdata = testDescr,type=type)[,1]\n",
    "else pred[[j]][,i]=predict(modFit,\n",
    "newdata = testDescr)\n",
    "}}\n",
    "list(pred=pred,obs=obs)\n",
    "# résultats\n",
    "}"
   ]
  },
  {
   "cell_type": "code",
   "execution_count": null,
   "metadata": {
    "collapsed": true
   },
   "outputs": [],
   "source": [
    "X = Data[,-c(31,32,33)]\n",
    "Y = Data[,33]\n"
   ]
  },
  {
   "cell_type": "code",
   "execution_count": null,
   "metadata": {
    "collapsed": true
   },
   "outputs": [],
   "source": []
  },
  {
   "cell_type": "code",
   "execution_count": null,
   "metadata": {
    "collapsed": true,
    "scrolled": true
   },
   "outputs": [],
   "source": [
    "# Choisir la liste des méthodes et l’effort d’optimisation\n",
    "models=c(\"gbm\",\"glmStepAIC\",\"rpart\",\"rf\")#,\"xgb\"\n",
    "noptim=c(6,6,6,6)#,6)\n",
    "\n",
    "Niter=50 ; Init=11 \n",
    "# Appel de la fonction définie ci-dessus\n",
    "pred.g3=pred.autom(X,Y,p=0.8,methodes=models,N=Niter,xinit=Init,size=noptim)"
   ]
  },
  {
   "cell_type": "code",
   "execution_count": null,
   "metadata": {
    "collapsed": true
   },
   "outputs": [],
   "source": [
    "# Calcul des taux de bien classés\n",
    "obs=pred.g3$obs\n",
    "prev.g3=pred.g3$pred\n",
    "\n",
    "res_GLM.g3 = vector(\"numeric\", Niter)\n",
    "res_RF.g3 = vector(\"numeric\", Niter)\n",
    "res_DT.g3 = vector(\"numeric\", Niter)\n",
    "res_GBM.g3 = vector(\"numeric\", Niter)\n",
    "#res_XGB.g3 = vector(\"numeric\", Niter)\n",
    "\n",
    "for (i in 1:Niter){\n",
    "    res_GLM.g3[i]=sum((prev.g3$glmStepAIC[,i]-obs[,i])^2)/nrow(DataTest)\n",
    "    res_RF.g3[i]=sum((prev.g3$rf[,i]-obs[,i])^2)/nrow(DataTest)\n",
    "    res_DT.g3[i]=sum((prev.g3$rpart[,i]-obs[,i])^2)/nrow(DataTest)\n",
    "    res_GBM.g3[i]=sum((prev.g3$gbm[,i]-obs[,i])^2)/nrow(DataTest)\n",
    "    #res_XGB.g3[i]=sum((prev.g3$xgb[,i]-obs[,i])^2)/nrow(DataTest)\n",
    "}\n",
    "\n",
    "# distributions des erreurs \n",
    "boxplot(res_GLM.g3,res_RF.g3,res_DT.g3,res_GBM.g3,xlab=\"GLM                  -                RF                    -                     DT                   -                    GBM\")"
   ]
  },
  {
   "cell_type": "markdown",
   "metadata": {},
   "source": [
    "## 13.2 - Comparaison des moyennes des erreurs des méthodes"
   ]
  },
  {
   "cell_type": "code",
   "execution_count": null,
   "metadata": {
    "collapsed": true
   },
   "outputs": [],
   "source": [
    "Erreurs = c(res_GLM.g3,res_RF.g3,res_DT.g3,res_GBM.g3)\n",
    "Method = c(rep(\"GLM\",Niter),rep(\"RF\",Niter),rep(\"DT\",Niter),rep(\"GBM\",Niter))\n",
    "Data_err = data.frame(Erreurs=Erreurs, Method=Method)"
   ]
  },
  {
   "cell_type": "code",
   "execution_count": null,
   "metadata": {
    "collapsed": true
   },
   "outputs": [],
   "source": [
    "an1 = lm(Erreurs~Method)"
   ]
  },
  {
   "cell_type": "code",
   "execution_count": null,
   "metadata": {
    "collapsed": true
   },
   "outputs": [],
   "source": [
    "summary(an1)"
   ]
  },
  {
   "cell_type": "markdown",
   "metadata": {},
   "source": [
    "On enlève l'arbre qui a une erreur de prédiction moyenne nettement différente des autres modèles"
   ]
  },
  {
   "cell_type": "code",
   "execution_count": null,
   "metadata": {
    "collapsed": true
   },
   "outputs": [],
   "source": [
    "Erreurs2 = c(res_GLM.g3,res_RF.g3,res_GBM.g3)\n",
    "Method2 = c(rep(\"GLM\",Niter),rep(\"RF\",Niter),rep(\"GBM\",Niter))\n",
    "Data_err2 = data.frame(Erreurs2=Erreurs2, Method2=Method2)\n",
    "\n",
    "an2 = lm(Erreurs2~Method2)\n",
    "\n",
    "summary(an2)"
   ]
  }
 ],
 "metadata": {
  "kernelspec": {
   "display_name": "R",
   "language": "R",
   "name": "ir"
  },
  "language_info": {
   "codemirror_mode": "r",
   "file_extension": ".r",
   "mimetype": "text/x-r-source",
   "name": "R",
   "pygments_lexer": "r",
   "version": "3.4.2"
  }
 },
 "nbformat": 4,
 "nbformat_minor": 2
}
